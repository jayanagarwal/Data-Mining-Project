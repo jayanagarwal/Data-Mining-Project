{
 "cells": [
  {
   "cell_type": "code",
   "execution_count": 1,
   "id": "65c6e6f1-ab81-4689-a2d3-4e26eea328ba",
   "metadata": {},
   "outputs": [],
   "source": [
    "import os\n",
    "import re\n",
    "import pandas as pd\n",
    "from glob import glob"
   ]
  },
  {
   "cell_type": "code",
   "execution_count": 2,
   "id": "38fd6670-ed56-4c41-8aba-316fb47b92fb",
   "metadata": {},
   "outputs": [],
   "source": [
    "# Function to calculate word count and special characters count\n",
    "def calculate_counts(file_content):\n",
    "    word_count = len(file_content.split())\n",
    "    special_char_count = len(re.findall(r'[^\\w\\s]', file_content))\n",
    "    return word_count, special_char_count"
   ]
  },
  {
   "cell_type": "code",
   "execution_count": 3,
   "id": "12d0ba4f-1488-4f2e-bd60-00f95afc0661",
   "metadata": {},
   "outputs": [],
   "source": [
    "# Function to count keywords in the resume\n",
    "def count_keywords(file_content, keywords):\n",
    "    keyword_counts = {}\n",
    "    for keyword in keywords:\n",
    "        keyword_counts[keyword] = len(re.findall(keyword, file_content, re.IGNORECASE))\n",
    "    return keyword_counts"
   ]
  },
  {
   "cell_type": "code",
   "execution_count": 4,
   "id": "fb99457a-6cb7-42b1-83ab-8135b48c26f4",
   "metadata": {},
   "outputs": [],
   "source": [
    "# Function to remove the phrase \"Contact this candidate\"\n",
    "def remove_contact_phrase(file_content):\n",
    "    return file_content.replace(\"Contact this candidate\", \"\")\n",
    "\n",
    "# Function to count occurrences of \"continued...\"\n",
    "def count_continued(file_content):\n",
    "    return len(re.findall(r'continued\\.\\.\\.', file_content, re.IGNORECASE))\n",
    "\n",
    "# Function to process each resume and return a dictionary of its data\n",
    "def extract_resume_data(resume_file, folder_name, keywords):\n",
    "    with open(resume_file, 'r', encoding='utf-8') as file:\n",
    "        content = file.read()\n",
    "    \n",
    "    # Remove the phrase \"Contact this candidate\" if it exists\n",
    "    content = remove_contact_phrase(content)\n",
    "    \n",
    "    # Get word count and special characters count\n",
    "    word_count, special_char_count = calculate_counts(content)\n",
    "    \n",
    "    # Count the occurrences of keywords\n",
    "    keyword_counts = count_keywords(content, keywords)\n",
    "    \n",
    "    # Count the occurrences of \"continued...\"\n",
    "    continued_count = count_continued(content)\n",
    "    \n",
    "    # Resume file name\n",
    "    resume_name = os.path.basename(resume_file)\n",
    "    \n",
    "    # Combine all data into a single dictionary\n",
    "    resume_data = {\n",
    "        'Resume File Name': resume_name,\n",
    "        'Resume Folder (Job Title)': folder_name,\n",
    "        'Word Count': word_count,\n",
    "        'Special Characters Count': special_char_count,\n",
    "        'Continued Count': continued_count,  # New column for \"continued...\" count\n",
    "        'Resume': content  # Add full text of the resume\n",
    "    }\n",
    "    \n",
    "    # Add the keyword counts to the resume data\n",
    "    resume_data.update(keyword_counts)\n",
    "    \n",
    "    return resume_data"
   ]
  },
  {
   "cell_type": "code",
   "execution_count": 5,
   "id": "38b703e0-2c13-48c5-8440-c833f0da326d",
   "metadata": {},
   "outputs": [],
   "source": [
    "# Function to process all resumes in subfolders and store the data into a CSV\n",
    "def process_resumes_to_csv(main_folder, output_csv, keywords):\n",
    "    all_resumes = []\n",
    "    \n",
    "    # Traverse through each job title folder\n",
    "    for folder in os.listdir(main_folder):\n",
    "        folder_path = os.path.join(main_folder, folder)\n",
    "        \n",
    "        # Ensure it's a folder\n",
    "        if os.path.isdir(folder_path):\n",
    "            # Iterate over all txt files in the folder\n",
    "            for resume_file in glob(os.path.join(folder_path, \"*.txt\")):\n",
    "                resume_data = extract_resume_data(resume_file, folder, keywords)\n",
    "                all_resumes.append(resume_data)\n",
    "    \n",
    "    # Create a DataFrame from the list of dictionaries and save as CSV\n",
    "    df = pd.DataFrame(all_resumes)\n",
    "    df.to_csv(output_csv, index=False)\n",
    "    print(f\"CSV saved as {output_csv}\")"
   ]
  },
  {
   "cell_type": "code",
   "execution_count": 6,
   "id": "e301ca19-db82-445b-8ba8-04ad2b1d4ad6",
   "metadata": {},
   "outputs": [],
   "source": [
    "# List of keywords to search for in the resumes\n",
    "keywords = [\n",
    "    'Name', 'Contact', 'Professional Summary', 'Skills', 'Education',\n",
    "    'Experience', 'Certifications', 'Accomplishments', 'Achievements',\n",
    "    'Hobbies', 'Languages', 'Linkedin', 'Github'\n",
    "]"
   ]
  },
  {
   "cell_type": "code",
   "execution_count": 7,
   "id": "8beabdfb-1f68-4224-911a-575e3d562875",
   "metadata": {},
   "outputs": [],
   "source": [
    "# Folder containing job title subfolders with resume .txt files and desired output CSV\n",
    "main_folder = 'postjobfree'  # Update with your main folder path\n",
    "output_csv = 'resumes_data.csv'"
   ]
  },
  {
   "cell_type": "code",
   "execution_count": 8,
   "id": "5af9957a-4468-43f8-80ad-7ae4f3f50590",
   "metadata": {},
   "outputs": [
    {
     "name": "stdout",
     "output_type": "stream",
     "text": [
      "CSV saved as resumes_data.csv\n"
     ]
    }
   ],
   "source": [
    "# Run the script\n",
    "process_resumes_to_csv(main_folder, output_csv, keywords)"
   ]
  },
  {
   "cell_type": "code",
   "execution_count": null,
   "id": "b4db48c6-934b-43f9-ad35-b548378a4e0f",
   "metadata": {},
   "outputs": [],
   "source": []
  }
 ],
 "metadata": {
  "kernelspec": {
   "display_name": "Python 3 (ipykernel)",
   "language": "python",
   "name": "python3"
  },
  "language_info": {
   "codemirror_mode": {
    "name": "ipython",
    "version": 3
   },
   "file_extension": ".py",
   "mimetype": "text/x-python",
   "name": "python",
   "nbconvert_exporter": "python",
   "pygments_lexer": "ipython3",
   "version": "3.11.10"
  }
 },
 "nbformat": 4,
 "nbformat_minor": 5
}
